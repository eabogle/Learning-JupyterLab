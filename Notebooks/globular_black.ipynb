{
 "cells": [
  {
   "cell_type": "markdown",
   "id": "cc96a572-bc66-413d-af97-2f53f040a0d0",
   "metadata": {},
   "source": [
    "## Simulate a Globular Star Cluster with Matplotlib"
   ]
  },
  {
   "cell_type": "code",
   "execution_count": 1,
   "id": "2e6189e3-e471-4c75-beaa-efaca1e90315",
   "metadata": {},
   "outputs": [],
   "source": [
    "%matplotlib qt\n",
    "import numpy as np\n",
    "from matplotlib import pyplot as plt\n",
    "# plt.style.use('dark_background')"
   ]
  },
  {
   "cell_type": "code",
   "execution_count": 2,
   "id": "8d08333e-9aea-45ff-8bd9-c639c719d7de",
   "metadata": {},
   "outputs": [],
   "source": [
    "def spherical_coords(num_pts, radius):\n",
    "    \"\"\"Return list of uniformly distributed points in a sphere.\"\"\"\n",
    "    position_list = []\n",
    "    for _ in range(num_pts):\n",
    "         coords = np.random.normal(0, 1, 3)\n",
    "         coords *= radius\n",
    "         position_list.append(list(coords))\n",
    "    return position_list"
   ]
  },
  {
   "cell_type": "code",
   "execution_count": 3,
   "id": "a85d046f-101d-4e82-af99-cdad7111e117",
   "metadata": {},
   "outputs": [],
   "source": [
    "rim_radius = 1\n",
    "num_rim_stars = 3000\n",
    "rim_stars = spherical_coords(num_rim_stars, rim_radius)\n",
    "core_stars = spherical_coords(int(num_rim_stars/4), rim_radius/2.5)\n",
    "\n",
    "fig, ax = plt.subplots(1, 1, subplot_kw={'projection':'3d'})\n",
    "# ax.axis('off')\n",
    "# ax.scatter(*zip(*core_stars), s=0.5, c='white')\n",
    "# ax.scatter(*zip(*rim_stars), s=0.1, c='white')\n",
    "ax.scatter(*zip(*core_stars), s=0.5, c='black')\n",
    "ax.scatter(*zip(*rim_stars), s=0.1, c='black')\n",
    "ax.set_xlim(-(rim_radius * 4), (rim_radius * 4))\n",
    "ax.set_ylim(-(rim_radius * 4), (rim_radius * 4))\n",
    "ax.set_zlim(-(rim_radius * 3), (rim_radius * 3))\n",
    "ax.set_aspect('auto')"
   ]
  },
  {
   "cell_type": "code",
   "execution_count": null,
   "id": "d76c00cf-4002-4313-875c-b29619b97e49",
   "metadata": {},
   "outputs": [],
   "source": []
  }
 ],
 "metadata": {
  "kernelspec": {
   "display_name": "Python 3 (ipykernel)",
   "language": "python",
   "name": "python3"
  },
  "language_info": {
   "codemirror_mode": {
    "name": "ipython",
    "version": 3
   },
   "file_extension": ".py",
   "mimetype": "text/x-python",
   "name": "python",
   "nbconvert_exporter": "python",
   "pygments_lexer": "ipython3",
   "version": "3.11.4"
  }
 },
 "nbformat": 4,
 "nbformat_minor": 5
}
